{
 "cells": [
  {
   "cell_type": "markdown",
   "id": "34d9c3ab-ffc0-4de8-8691-d0278facd7be",
   "metadata": {},
   "source": [
    "### 1. Известно, что генеральная совокупность распределена нормально со средним квадратическим отклонением, равным 16. Найти доверительный интервал для оценки математического ожидания a с надежностью 0.95, если выборочная средняя M = 80, а объем выборки n = 256."
   ]
  },
  {
   "cell_type": "code",
   "execution_count": 1,
   "id": "df5e151d-b1f4-4811-b9b7-6335c3418ab6",
   "metadata": {},
   "outputs": [],
   "source": [
    "n = 256\n",
    "x = 80\n",
    "sig = 16\n",
    "z = 1.96"
   ]
  },
  {
   "cell_type": "code",
   "execution_count": 4,
   "id": "749e34a7-cbe9-442e-97c6-136247577f82",
   "metadata": {},
   "outputs": [
    {
     "name": "stdout",
     "output_type": "stream",
     "text": [
      "Confidence interval: [78.04, 81.96]\n"
     ]
    }
   ],
   "source": [
    "iq1 = x - z * sig / n**0.5\n",
    "iq2 = x + z * sig / n**0.5\n",
    "print(f'Confidence interval: [{round(iq1, 4)}, {round(iq2, 4)}]')"
   ]
  },
  {
   "cell_type": "markdown",
   "id": "dac401cb-9991-4821-97d0-d4cb0f1d6865",
   "metadata": {},
   "source": [
    "### 2. В результате 10 независимых измерений некоторой величины X, выполненных с одинаковой точностью, получены опытные данные: 6.9, 6.1, 6.2, 6.8, 7.5, 6.3, 6.4, 6.9, 6.7, 6.1 Предполагая, что результаты измерений подчинены нормальному закону распределения вероятностей, оценить истинное значение величины X при помощи доверительного интервала, покрывающего это значение с доверительной вероятностью 0,95."
   ]
  },
  {
   "cell_type": "code",
   "execution_count": 5,
   "id": "b70d031f-d620-47de-8c74-1113666c2907",
   "metadata": {},
   "outputs": [],
   "source": [
    "import numpy as np\n",
    "import scipy.stats as stats"
   ]
  },
  {
   "cell_type": "code",
   "execution_count": 16,
   "id": "7fc50f9f-6582-4274-aa03-c8bf2bed13a3",
   "metadata": {},
   "outputs": [],
   "source": [
    "array = [6.9, 6.1, 6.2, 6.8, 7.5, 6.3, 6.4, 6.9, 6.7, 6.1]\n",
    "n1 = 10 "
   ]
  },
  {
   "cell_type": "code",
   "execution_count": 17,
   "id": "03a7f8dd-fb68-441d-a318-15cbba3ee9fb",
   "metadata": {},
   "outputs": [
    {
     "data": {
      "text/plain": [
       "6.590000000000001"
      ]
     },
     "execution_count": 17,
     "metadata": {},
     "output_type": "execute_result"
    }
   ],
   "source": [
    "x = np.mean(array)\n",
    "x"
   ]
  },
  {
   "cell_type": "code",
   "execution_count": 18,
   "id": "618e2765-d1b4-4c55-a12b-386b71664192",
   "metadata": {},
   "outputs": [
    {
     "name": "stdout",
     "output_type": "stream",
     "text": [
      "Mean value: 6.59\n"
     ]
    }
   ],
   "source": [
    "print(f'Mean value: {round(x, 4)}')"
   ]
  },
  {
   "cell_type": "code",
   "execution_count": 19,
   "id": "24886c8a-1e7b-4205-a55a-818da48ce006",
   "metadata": {},
   "outputs": [
    {
     "name": "stdout",
     "output_type": "stream",
     "text": [
      "Standard deviation: 0.4508\n"
     ]
    }
   ],
   "source": [
    "sigma = np.std(array, ddof = 1)\n",
    "print(f'Standard deviation: {round(sigma, 4)}')"
   ]
  },
  {
   "cell_type": "code",
   "execution_count": 24,
   "id": "79057beb-b1ee-4b43-8818-3b2581710bdf",
   "metadata": {},
   "outputs": [
    {
     "name": "stdout",
     "output_type": "stream",
     "text": [
      "Table t-value for the 95% confidence interval: 2.2622\n"
     ]
    }
   ],
   "source": [
    "a = 0.05\n",
    "zalpha = stats.t.ppf(1 - a / 2, n1 - 1)\n",
    "print(f'Table t-value for the 95% confidence interval: {round(zalpha, 4)}')"
   ]
  },
  {
   "cell_type": "code",
   "execution_count": 26,
   "id": "a8037d72-cc77-412e-8f72-bf55852245f1",
   "metadata": {},
   "outputs": [
    {
     "name": "stdout",
     "output_type": "stream",
     "text": [
      "Confidence interval: [6.2675, 6.9125]\n"
     ]
    }
   ],
   "source": [
    "IQ1 = x - zalpha * sigma / n**0.5\n",
    "IQ2 = x + zalpha * sigma / n**0.5\n",
    "print(f'Confidence interval: [{round(IQ1, 4)}, {round(IQ2, 4)}]')"
   ]
  },
  {
   "cell_type": "markdown",
   "id": "721ebde5-3b5f-4837-85f1-04c75203e5ab",
   "metadata": {},
   "source": [
    "### 3. Рост дочерей 175, 167, 154, 174, 178, 148, 160, 167, 169, 170 Рост матерей  178, 165, 165, 173, 168, 155, 160, 164, 178, 175 Используя эти данные построить 95% доверительный интервал для разности среднего роста родителей и детей."
   ]
  },
  {
   "cell_type": "code",
   "execution_count": 27,
   "id": "9bbab57f-6ffc-4073-8c4a-ca4491776f3c",
   "metadata": {},
   "outputs": [],
   "source": [
    "d = [175, 167, 154, 174, 178, 148, 160, 167, 169, 170]\n",
    "m = [178, 165, 165, 173, 168, 155, 160, 164, 178, 175]"
   ]
  },
  {
   "cell_type": "code",
   "execution_count": 30,
   "id": "f49a7b7c-1257-434a-a09b-f45b9596bbdb",
   "metadata": {},
   "outputs": [
    {
     "data": {
      "text/plain": [
       "(10, 10)"
      ]
     },
     "execution_count": 30,
     "metadata": {},
     "output_type": "execute_result"
    }
   ],
   "source": [
    "X1 = len(d)\n",
    "X2 = len(m)\n",
    "X1, X2 # n value"
   ]
  },
  {
   "cell_type": "code",
   "execution_count": 31,
   "id": "4b9d7adf-67ed-4369-9595-cf98ef571cea",
   "metadata": {},
   "outputs": [
    {
     "name": "stdout",
     "output_type": "stream",
     "text": [
      "Mean value: 166.2, 168.1\n"
     ]
    }
   ],
   "source": [
    "mean1 = np.mean(d)\n",
    "mean2 = np.mean(m)\n",
    "print(f'Mean value: {round(mean1, 4)}, {round(mean2, 4)}')"
   ]
  },
  {
   "cell_type": "code",
   "execution_count": 32,
   "id": "2b144d6c-8d1b-4f07-a2ec-a423b30c1e82",
   "metadata": {},
   "outputs": [
    {
     "data": {
      "text/plain": [
       "0.025"
      ]
     },
     "execution_count": 32,
     "metadata": {},
     "output_type": "execute_result"
    }
   ],
   "source": [
    "alpha = 0.05 / 2\n",
    "alpha"
   ]
  },
  {
   "cell_type": "code",
   "execution_count": 35,
   "id": "ab7be34d-d3dd-4ca4-bff2-a1aaf04bffeb",
   "metadata": {},
   "outputs": [
    {
     "data": {
      "text/plain": [
       "(10.068418034506857, -6.268418034506846)"
      ]
     },
     "execution_count": 35,
     "metadata": {},
     "output_type": "execute_result"
    }
   ],
   "source": [
    "D = mean2 - mean1\n",
    "S = np.sqrt(np.var(m, ddof=1) / X2 + np.var(d, ddof=1) / X1)\n",
    "tcrit = stats.t.ppf(alpha, X2 + X1 - 2)\n",
    "I1 = D - tcrit * S\n",
    "I2 = D + tcrit * S\n",
    "I1, I2"
   ]
  },
  {
   "cell_type": "code",
   "execution_count": null,
   "id": "530ca5ca-d34f-4575-98f1-aa5cde2c7a31",
   "metadata": {},
   "outputs": [],
   "source": [
    "print(f'95% confidence interval')"
   ]
  }
 ],
 "metadata": {
  "kernelspec": {
   "display_name": "Python 3 (ipykernel)",
   "language": "python",
   "name": "python3"
  },
  "language_info": {
   "codemirror_mode": {
    "name": "ipython",
    "version": 3
   },
   "file_extension": ".py",
   "mimetype": "text/x-python",
   "name": "python",
   "nbconvert_exporter": "python",
   "pygments_lexer": "ipython3",
   "version": "3.11.7"
  }
 },
 "nbformat": 4,
 "nbformat_minor": 5
}
