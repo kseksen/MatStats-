{
 "cells": [
  {
   "cell_type": "markdown",
   "id": "6ec685f3-f306-4409-9155-709c919fac50",
   "metadata": {},
   "source": [
    "### 1. Даны значения величины заработной платы заемщиков банка (zp) и значения их поведенческого кредитного скоринга (ks): zp = [35, 45, 190, 200, 40, 70, 54, 150, 120, 110], ks = [401, 574, 874, 919, 459, 739, 653, 902, 746, 832]. Найдите ковариацию этих двух величин с помощью элементарных действий, а затем с помощью функции cov из numpy Полученные значения должны быть равны. Найдите коэффициент корреляции Пирсона с помощью ковариации и среднеквадратичных отклонений двух признаков, а затем с использованием функций из библиотек numpy и pandas."
   ]
  },
  {
   "cell_type": "code",
   "execution_count": 1,
   "id": "27cb8911-15f6-4f40-9f94-79a1d5762516",
   "metadata": {},
   "outputs": [],
   "source": [
    "import pandas as pd\n",
    "import numpy as np\n",
    "from scipy import stats\n",
    "import matplotlib.pyplot as plt"
   ]
  },
  {
   "cell_type": "code",
   "execution_count": 2,
   "id": "b01da74d-484b-482f-aeda-37c723b624fd",
   "metadata": {},
   "outputs": [],
   "source": [
    "zp = [35, 45, 190, 200, 40, 70, 54, 150, 120, 110]\n",
    "ks = [401, 574, 874, 919, 459, 739, 653, 902, 746, 832]"
   ]
  },
  {
   "cell_type": "code",
   "execution_count": 5,
   "id": "cff451a8-d6ca-4a08-b307-efd3821fb57b",
   "metadata": {},
   "outputs": [
    {
     "data": {
      "text/plain": [
       "0.8874900920739162"
      ]
     },
     "execution_count": 5,
     "metadata": {},
     "output_type": "execute_result"
    }
   ],
   "source": [
    "cov = np.corrcoef(zp, ks)\n",
    "cov[0][1]"
   ]
  },
  {
   "cell_type": "code",
   "execution_count": 13,
   "id": "b2eeccfd-ff82-44a5-aaf9-f5317bf5c76c",
   "metadata": {},
   "outputs": [
    {
     "data": {
      "image/png": "[encoded data removed]",
      "text/plain": [
       "<Figure size 640x480 with 1 Axes>"
      ]
     },
     "metadata": {},
     "output_type": "display_data"
    }
   ],
   "source": [
    "plt.scatter(zp, ks)\n",
    "plt.title(f'cov = {round(cov[0][1], 4)}')\n",
    "plt.xlabel('X')\n",
    "plt.ylabel('Y')\n",
    "plt.show()"
   ]
  },
  {
   "cell_type": "code",
   "execution_count": 15,
   "id": "0e9766f6-20bd-4765-8e56-ac850d11b9c9",
   "metadata": {},
   "outputs": [
    {
     "data": {
      "text/plain": [
       "9157.84"
      ]
     },
     "execution_count": 15,
     "metadata": {},
     "output_type": "execute_result"
    }
   ],
   "source": [
    "np.cov(zp, ks, ddof=0)[0, 1]"
   ]
  },
  {
   "cell_type": "code",
   "execution_count": 17,
   "id": "ab7d617d-f5ef-4c79-9aae-3bd469c37352",
   "metadata": {},
   "outputs": [
    {
     "data": {
      "text/plain": [
       "0.8874900920739162"
      ]
     },
     "execution_count": 17,
     "metadata": {},
     "output_type": "execute_result"
    }
   ],
   "source": [
    "np.cov(zp, ks, ddof=0)[0, 1] / (np.std(zp) * np.std(ks)) # Pearson correlation coefficient"
   ]
  },
  {
   "cell_type": "markdown",
   "id": "69071019-3372-4760-89a7-884a47f25306",
   "metadata": {},
   "source": [
    "### 2. Измерены значения IQ выборки студентов, обучающихся в местных технических вузах: 131, 125, 115, 122, 131, 115, 107, 99, 125, 111. Известно, что в генеральной совокупности IQ распределен нормально. Найдите доверительный интервал для математического ожидания с надежностью 0.95"
   ]
  },
  {
   "cell_type": "code",
   "execution_count": 18,
   "id": "563a2169-02ff-415c-bfbf-c5360776368c",
   "metadata": {},
   "outputs": [],
   "source": [
    "iq = [131, 125, 115, 122, 131, 115, 107, 99, 125, 111]"
   ]
  },
  {
   "cell_type": "code",
   "execution_count": 21,
   "id": "51b6e361-17be-4e63-8f30-c8dd3ffd59bf",
   "metadata": {},
   "outputs": [
    {
     "name": "stdout",
     "output_type": "stream",
     "text": [
      "Mean value: 118.1\n"
     ]
    }
   ],
   "source": [
    "n = 10\n",
    "x = np.mean(iq)\n",
    "print(f'Mean value: {round(x, 4)}')"
   ]
  },
  {
   "cell_type": "code",
   "execution_count": 23,
   "id": "763219e6-57a1-4253-8428-6674bbb324fd",
   "metadata": {},
   "outputs": [
    {
     "name": "stdout",
     "output_type": "stream",
     "text": [
      "Standard deviation: 10.5457\n"
     ]
    }
   ],
   "source": [
    "sig = np.std(iq, ddof = 1)\n",
    "print(f'Standard deviation: {round(sig, 4)}')"
   ]
  },
  {
   "cell_type": "code",
   "execution_count": 24,
   "id": "87f3c443-72fb-4216-a084-d41678103110",
   "metadata": {},
   "outputs": [
    {
     "name": "stdout",
     "output_type": "stream",
     "text": [
      "t-value 0.95% of confidence interval: 10.5457\n"
     ]
    }
   ],
   "source": [
    "alpha = 0.05\n",
    "za = stats.t.ppf(1 - alpha / 2, n - 1)\n",
    "print(f't-value {1 - alpha}% of confidence interval: {round(sig, 4)}')"
   ]
  },
  {
   "cell_type": "code",
   "execution_count": 25,
   "id": "a0a221e3-07a7-4390-9409-1d85527f03c4",
   "metadata": {},
   "outputs": [
    {
     "name": "stdout",
     "output_type": "stream",
     "text": [
      "Confidence interval: [110.5561; 125.6439]\n"
     ]
    }
   ],
   "source": [
    "l1 = x - za * sig / n**0.5\n",
    "l2 = x + za * sig / n**0.5\n",
    "print(f'Confidence interval: [{round(l1, 4)}; {round(l2, 4)}]')"
   ]
  },
  {
   "cell_type": "markdown",
   "id": "fe5b2edf-a583-461d-ace1-f55bbc9f3ff7",
   "metadata": {},
   "source": [
    "### 3. Известно, что рост футболистов в сборной распределен нормально с дисперсией генеральной совокупности, равной 25 кв.см. Объем выборки равен 27, среднее выборочное составляет 174.2. Найдите доверительный интервал для математического ожидания с надежностью 0.95. "
   ]
  },
  {
   "cell_type": "code",
   "execution_count": 26,
   "id": "36875b31-177e-4280-8bbb-0ee4d5a311b5",
   "metadata": {},
   "outputs": [],
   "source": [
    "p = 0.95\n",
    "n2 = 27\n",
    "x = 174.2\n",
    "d = 25"
   ]
  },
  {
   "cell_type": "code",
   "execution_count": 27,
   "id": "a98c6450-0b0a-4b0f-9fd3-a7271dc41bba",
   "metadata": {},
   "outputs": [],
   "source": [
    "sigma = d**0.5\n",
    "alpha = 1 - p\n",
    "za = stats.norm.ppf(1 - alpha / 2)"
   ]
  },
  {
   "cell_type": "code",
   "execution_count": 28,
   "id": "cd212db3-4f07-4e0d-b719-e2e41ac4bb34",
   "metadata": {},
   "outputs": [
    {
     "name": "stdout",
     "output_type": "stream",
     "text": [
      "Confidence interval: [171.101; 177.299]\n"
     ]
    }
   ],
   "source": [
    "l1 = x - za * sigma / n**0.5\n",
    "l2 = x + za * sigma / n**0.5\n",
    "print(f'Confidence interval: [{round(l1, 4)}; {round(l2, 4)}]')"
   ]
  }
 ],
 "metadata": {
  "kernelspec": {
   "display_name": "Python 3 (ipykernel)",
   "language": "python",
   "name": "python3"
  },
  "language_info": {
   "codemirror_mode": {
    "name": "ipython",
    "version": 3
   },
   "file_extension": ".py",
   "mimetype": "text/x-python",
   "name": "python",
   "nbconvert_exporter": "python",
   "pygments_lexer": "ipython3",
   "version": "3.11.7"
  }
 },
 "nbformat": 4,
 "nbformat_minor": 5
}
