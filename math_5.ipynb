{
 "cells": [
  {
   "cell_type": "markdown",
   "id": "18ec7ad2-6428-4c2e-8c08-6bf5db2aa0cc",
   "metadata": {},
   "source": [
    "## Практическое задание. Тестирование гипотез "
   ]
  },
  {
   "cell_type": "markdown",
   "id": "86cbcc59-0b33-4c53-8e30-67a17a566c11",
   "metadata": {},
   "source": [
    "### 1. Когда используется критерий Стьюдента, а когда Z –критерий?"
   ]
  },
  {
   "cell_type": "markdown",
   "id": "1582ef1e-ab44-40e4-8f1b-350946593d6f",
   "metadata": {},
   "source": [
    "Z критерий:\n",
    "1. Нормальность.\n",
    "2. Сигма генеральной совокупности известна. \n",
    "\n",
    "t (критерий Стьюдента)\n",
    "1. Нормальность.\n",
    "2. Равенство дисперсий.\n",
    "3. Сигма генеральной совокупности неизвестна."
   ]
  },
  {
   "cell_type": "markdown",
   "id": "73a19c74-87a1-4636-a551-cd206ce9f8e1",
   "metadata": {},
   "source": [
    "### 2. Проведите тест гипотезы. Утверждается, что шарики для подшипников, изготовленные автоматическим станком, имеют средний диаметр 17 мм. Используя односторонний критерий с α=0,05, проверить эту гипотезу, если в выборке из n=100 шариков средний диаметр оказался равным 17.5 мм, а дисперсия известна и равна 4 кв. мм. "
   ]
  },
  {
   "cell_type": "code",
   "execution_count": 2,
   "id": "88b387c9-aff3-4487-b56c-84eda79728cc",
   "metadata": {},
   "outputs": [],
   "source": [
    "import numpy as np \n",
    "import pylab \n",
    "import scipy.stats as stats"
   ]
  },
  {
   "cell_type": "markdown",
   "id": "01bb05d2-dcde-4b7c-bfbb-3853261c5510",
   "metadata": {},
   "source": [
    "H0: mu = mu0\n",
    "\n",
    "H1: mu > mu0 "
   ]
  },
  {
   "cell_type": "code",
   "execution_count": 28,
   "id": "38b52693-49e3-4acd-88b8-959ed58ffaad",
   "metadata": {},
   "outputs": [
    {
     "data": {
      "text/plain": [
       "2.5"
      ]
     },
     "execution_count": 28,
     "metadata": {},
     "output_type": "execute_result"
    }
   ],
   "source": [
    "mu = 17.5\n",
    "mu0 = 17\n",
    "sig = 2 #square root of 4 mmˆ2 \n",
    "n = 100\n",
    "\n",
    "zn = (mu - mu0)/(sig / np.sqrt(n))\n",
    "zn"
   ]
  },
  {
   "cell_type": "code",
   "execution_count": 29,
   "id": "9e1b8773-a651-45dd-b8ce-f41796479055",
   "metadata": {},
   "outputs": [
    {
     "name": "stdout",
     "output_type": "stream",
     "text": [
      "Z-value equals to: 2.5\n"
     ]
    }
   ],
   "source": [
    "print(f'Z-value equals to: {round(zn, 1)}')"
   ]
  },
  {
   "cell_type": "code",
   "execution_count": 30,
   "id": "3cb5a45a-44bc-4307-aa53-28a615f4a553",
   "metadata": {},
   "outputs": [
    {
     "data": {
      "text/plain": [
       "1.6448536269514722"
      ]
     },
     "execution_count": 30,
     "metadata": {},
     "output_type": "execute_result"
    }
   ],
   "source": [
    "a = 0.05\n",
    "\n",
    "zt = stats.norm.ppf(1 - a)\n",
    "zt"
   ]
  },
  {
   "cell_type": "code",
   "execution_count": 31,
   "id": "9d20f6c5-0998-4472-95bd-0e38e636f5bb",
   "metadata": {},
   "outputs": [
    {
     "name": "stdout",
     "output_type": "stream",
     "text": [
      "Table z value: 1.6449\n"
     ]
    }
   ],
   "source": [
    "print(f'Table z value: {round(zt, 4)}')"
   ]
  },
  {
   "cell_type": "code",
   "execution_count": 33,
   "id": "d5c8ce8e-3e64-46c2-9d69-a832fd72b0c7",
   "metadata": {},
   "outputs": [
    {
     "data": {
      "text/plain": [
       "False"
      ]
     },
     "execution_count": 33,
     "metadata": {},
     "output_type": "execute_result"
    }
   ],
   "source": [
    "zn < zt # zn(2.5) is greater than zt(1.6449) "
   ]
  },
  {
   "cell_type": "markdown",
   "id": "4c1c3415-f209-4141-b8d6-e5041ccaf165",
   "metadata": {},
   "source": [
    "#### H0 отвергается так как zn < zt. "
   ]
  },
  {
   "cell_type": "markdown",
   "id": "2963ac9c-d376-4a06-95ba-c5130569905a",
   "metadata": {},
   "source": [
    "### 3. Проведите тест гипотезы. Продавец утверждает, что средний вес пачки печенья составляет 200 г. Из партии извлечена выборка из 10 пачек. Вес каждой пачки составляет: 202, 203, 199, 197, 195, 201, 200, 204, 194, 190. Известно, что их веса распределены нормально. Верно ли утверждение продавца, если учитывать, что доверительная вероятность равна 99%? (Провести двусторонний тест.)"
   ]
  },
  {
   "cell_type": "markdown",
   "id": "125e5193-571a-4d8b-befc-d96e9fff3283",
   "metadata": {},
   "source": [
    "H0: mu = mu0\n",
    "\n",
    "H1: mu ≠ mu0 "
   ]
  },
  {
   "cell_type": "code",
   "execution_count": 34,
   "id": "54de396d-2452-479d-91d8-f750a8c0cea6",
   "metadata": {},
   "outputs": [
    {
     "data": {
      "text/plain": [
       "array([202, 203, 199, 197, 195, 201, 200, 204, 194, 190])"
      ]
     },
     "execution_count": 34,
     "metadata": {},
     "output_type": "execute_result"
    }
   ],
   "source": [
    "pachk = np.array([202, 203, 199, 197, 195, 201, 200, 204, 194, 190])\n",
    "pachk"
   ]
  },
  {
   "cell_type": "code",
   "execution_count": 35,
   "id": "45c52cf5-b929-468b-a243-3939a72c32ba",
   "metadata": {},
   "outputs": [
    {
     "name": "stdout",
     "output_type": "stream",
     "text": [
      "Mean weight value of packages: 198\n"
     ]
    }
   ],
   "source": [
    "np.mean(pachk)\n",
    "print(f'Mean weight value of packages: {round(np.mean(pachk))}')"
   ]
  },
  {
   "cell_type": "code",
   "execution_count": 36,
   "id": "ff5fbd41-3a3c-4f05-84d4-a2ef43c7ac01",
   "metadata": {},
   "outputs": [
    {
     "data": {
      "text/plain": [
       "4.453463071962462"
      ]
     },
     "execution_count": 36,
     "metadata": {},
     "output_type": "execute_result"
    }
   ],
   "source": [
    "np.std(pachk, ddof = 1)"
   ]
  },
  {
   "cell_type": "code",
   "execution_count": 27,
   "id": "f933a194-2bff-4e28-aa31-bcfa9fee6c40",
   "metadata": {},
   "outputs": [
    {
     "data": {
      "text/plain": [
       "10"
      ]
     },
     "execution_count": 27,
     "metadata": {},
     "output_type": "execute_result"
    }
   ],
   "source": [
    "len(pachk)"
   ]
  },
  {
   "cell_type": "code",
   "execution_count": null,
   "id": "7739ec9d-5148-4edd-b20f-12324e05e521",
   "metadata": {},
   "outputs": [],
   "source": [
    "# t = (np.mean(pachk)  - exp.value) / (np.std / np.sqrt(n))\n",
    "# t"
   ]
  },
  {
   "cell_type": "code",
   "execution_count": 40,
   "id": "fceb84c5-fd3f-4d32-9e25-f61f18baced3",
   "metadata": {},
   "outputs": [
    {
     "name": "stdout",
     "output_type": "stream",
     "text": [
      "Observed t-value: -1.0651\n"
     ]
    }
   ],
   "source": [
    "t = (np.mean(pachk) - 200) / (np.std(pachk, ddof = 1) / np.sqrt(10))\n",
    "print(f'Observed t-value: {round(t, 4)}')"
   ]
  },
  {
   "cell_type": "code",
   "execution_count": null,
   "id": "f464ccfc-5cc0-4260-a501-e0f4cd241422",
   "metadata": {},
   "outputs": [],
   "source": [
    "#stats.ttest_lsamp(x, 10) - One sample t-test\n",
    "#Ttest_lsampleResult(statistics = , pvalue = )"
   ]
  },
  {
   "cell_type": "code",
   "execution_count": 45,
   "id": "c5d31edb-8e16-4484-8c0f-04805a745084",
   "metadata": {},
   "outputs": [
    {
     "name": "stdout",
     "output_type": "stream",
     "text": [
      "Table t-value: 2.6264\n"
     ]
    }
   ],
   "source": [
    "alpha = 0.005\n",
    "\n",
    "tabt = stats.t.ppf(1 - alpha, n - 1)\n",
    "print(f'Table t-value: {round(tabt, 4)}')"
   ]
  },
  {
   "cell_type": "code",
   "execution_count": 44,
   "id": "23087202-a853-4293-96a9-065102d1d2f6",
   "metadata": {},
   "outputs": [
    {
     "data": {
      "text/plain": [
       "True"
      ]
     },
     "execution_count": 44,
     "metadata": {},
     "output_type": "execute_result"
    }
   ],
   "source": [
    "np.abs(t) < tabt"
   ]
  },
  {
   "cell_type": "markdown",
   "id": "154c589f-734e-4285-905c-c3b57e2665d8",
   "metadata": {},
   "source": [
    "Так как t(вычисленное значение t-критерия) < tabt(табличное значение t-критерия), то гипотеза H1 отвергается, а гипотеза H0 принемается."
   ]
  },
  {
   "cell_type": "markdown",
   "id": "3107951b-8683-4cdc-9acb-690c8905f290",
   "metadata": {},
   "source": [
    "### 4. Pешать с помощью функции. Есть ли статистически значимые различия в росте дочерей?\n",
    "\n",
    "Рост матерей 172, 177, 158, 170, 178,175, 164, 160, 169\n",
    "\n",
    "Рост взрослых дочерей: 173, 175, 162, 174, 175, 168, 155, 170, 160"
   ]
  },
  {
   "cell_type": "code",
   "execution_count": 12,
   "id": "759b0a54-f549-445c-b45b-75a48edc5e31",
   "metadata": {},
   "outputs": [],
   "source": [
    "x = np.array([172, 177, 158, 170, 178, 175, 164, 160, 169])\n",
    "y = np.array([173, 175, 162, 174, 175, 168, 155, 170, 160])\n",
    "# the arrays should contain the same number of values "
   ]
  },
  {
   "cell_type": "code",
   "execution_count": 13,
   "id": "3551629a-01b1-4494-a484-7c55ef14e214",
   "metadata": {},
   "outputs": [
    {
     "data": {
      "text/plain": [
       "TtestResult(statistic=0.559522990335608, pvalue=0.5911212354055175, df=8)"
      ]
     },
     "execution_count": 13,
     "metadata": {},
     "output_type": "execute_result"
    }
   ],
   "source": [
    "stats.ttest_rel(x, y) # function for dependent samples t-test"
   ]
  },
  {
   "cell_type": "markdown",
   "id": "3173879a-93b6-491f-b1e3-bfd8fa573d31",
   "metadata": {},
   "source": [
    "Значение p-value = 0.591 больше значения α = 0.05. \n",
    "Так как 0.591 > 0.05, гипотеза H1 отвергается, а гипотеза H0 принемается. Значит, статистической разницы в среднем ростом взрослых дочерей и матерей нет. "
   ]
  }
 ],
 "metadata": {
  "kernelspec": {
   "display_name": "Python 3 (ipykernel)",
   "language": "python",
   "name": "python3"
  },
  "language_info": {
   "codemirror_mode": {
    "name": "ipython",
    "version": 3
   },
   "file_extension": ".py",
   "mimetype": "text/x-python",
   "name": "python",
   "nbconvert_exporter": "python",
   "pygments_lexer": "ipython3",
   "version": "3.11.7"
  }
 },
 "nbformat": 4,
 "nbformat_minor": 5
}
