{
 "cells": [
  {
   "cell_type": "markdown",
   "id": "e4260ce9-2cb3-42e5-b533-a511abbc6db0",
   "metadata": {},
   "source": [
    "### 1. Даны две  независимые выборки. Не соблюдается условие нормальности\n",
    "x1  380,420, 290\n",
    "\n",
    "y1 140,360,200,900\n",
    "\n",
    "Сделайте вывод по результатам, полученным с помощью функции.\n"
   ]
  },
  {
   "cell_type": "code",
   "execution_count": 1,
   "id": "b1dc35ae-0f82-44aa-9bf4-4ff9e15483f6",
   "metadata": {},
   "outputs": [],
   "source": [
    "import numpy as np \n",
    "import scipy.stats as stats"
   ]
  },
  {
   "cell_type": "code",
   "execution_count": 2,
   "id": "04ff0df4-fec4-41e2-87bf-4271d00e2c19",
   "metadata": {},
   "outputs": [],
   "source": [
    "x1 = [380, 420, 290]\n",
    "y1 = [140, 360, 200, 900]\n",
    "a = 0.05"
   ]
  },
  {
   "cell_type": "code",
   "execution_count": 6,
   "id": "ab5faab0-7966-4e78-a188-a39068ca0b1b",
   "metadata": {},
   "outputs": [
    {
     "data": {
      "text/plain": [
       "MannwhitneyuResult(statistic=8.0, pvalue=0.6285714285714286)"
      ]
     },
     "execution_count": 6,
     "metadata": {},
     "output_type": "execute_result"
    }
   ],
   "source": [
    "stats.mannwhitneyu(x1, y1)"
   ]
  },
  {
   "cell_type": "markdown",
   "id": "c6392028-0df9-4f3c-b39b-7a48b833e0be",
   "metadata": {},
   "source": [
    "H0 hypothesis is accepted, H1 is rejected because 0.629 > 0.05"
   ]
  },
  {
   "cell_type": "markdown",
   "id": "34e6d178-dc30-4de5-b453-05d897d5f86d",
   "metadata": {},
   "source": [
    "### 2. Исследовалось влияние препарата на уровень давления пациентов. Сначала измерялось давление до приема препарата, потом через 10 минут и через 30 минут. Есть ли статистически значимые различия?\n",
    "\n",
    "1е измерение до приема препарата: 150, 160, 165, 145, 155\n",
    "\n",
    "2е измерение через 10 минут: 140, 155, 150,  130, 135\n",
    "\n",
    "3е измерение через 30 минут: 130, 130, 120, 130, 125"
   ]
  },
  {
   "cell_type": "code",
   "execution_count": 7,
   "id": "53b1d7db-cf01-46a3-b55f-588860cb57ec",
   "metadata": {},
   "outputs": [],
   "source": [
    "first = [150, 160, 165, 145, 155]\n",
    "second = [140, 155, 150, 130, 135]\n",
    "third = [130, 130, 120, 130, 125]\n",
    "a = 0.05"
   ]
  },
  {
   "cell_type": "code",
   "execution_count": 8,
   "id": "9453ce14-4c4e-404f-a594-83ca01533411",
   "metadata": {},
   "outputs": [
    {
     "data": {
      "text/plain": [
       "FriedmanchisquareResult(statistic=9.578947368421062, pvalue=0.00831683351100441)"
      ]
     },
     "execution_count": 8,
     "metadata": {},
     "output_type": "execute_result"
    }
   ],
   "source": [
    "stats.friedmanchisquare(first, second, third)"
   ]
  },
  {
   "cell_type": "markdown",
   "id": "3bf59a47-744e-411c-aa79-b829e9739bef",
   "metadata": {},
   "source": [
    "Ho is rejected and H1 is accepted because 0.008 < 0.05"
   ]
  },
  {
   "cell_type": "markdown",
   "id": "4b71abea-0ca7-44a3-90f4-e9d2ea3fc5da",
   "metadata": {},
   "source": [
    "### 3. Сравните 1 и 2 е измерения, предполагая, что 3го измерения через 30 минут не было."
   ]
  },
  {
   "cell_type": "code",
   "execution_count": 9,
   "id": "a0834a34-b7c7-4f54-9cce-cb3fc7453dfb",
   "metadata": {},
   "outputs": [],
   "source": [
    "first = [150, 160, 165, 145, 155]\n",
    "second = [140, 155, 150, 130, 135]\n",
    "a = 0.05"
   ]
  },
  {
   "cell_type": "code",
   "execution_count": 10,
   "id": "110a8269-bccd-449a-969f-da5fc0f08460",
   "metadata": {},
   "outputs": [
    {
     "data": {
      "text/plain": [
       "WilcoxonResult(statistic=0.0, pvalue=0.0625)"
      ]
     },
     "execution_count": 10,
     "metadata": {},
     "output_type": "execute_result"
    }
   ],
   "source": [
    "stats.wilcoxon(first, second)"
   ]
  },
  {
   "cell_type": "markdown",
   "id": "18e440a1-a660-4ba8-81ee-4d7250f690c5",
   "metadata": {},
   "source": [
    "H0 is rejected and H1 is accepted because 0.0625(p-value) > 0.05(alpha)"
   ]
  },
  {
   "cell_type": "markdown",
   "id": "e6e90321-41d4-4959-8e04-f55e86c9caa7",
   "metadata": {},
   "source": [
    "### 4. Даны 3 группы  учеников плавания.\n",
    "В 1 группе время на дистанцию 50 м составляют:\n",
    "56, 60, 62, 55, 71, 67, 59, 58, 64, 67\n",
    "\n",
    "Вторая группа : 57, 58, 69, 48, 72, 70, 68, 71, 50, 53\n",
    "\n",
    "Третья группа: 57, 67, 49, 48, 47, 55, 66, 51, 54\n"
   ]
  },
  {
   "cell_type": "code",
   "execution_count": 11,
   "id": "1398f899-99ba-4ebb-b82a-3f847aebc193",
   "metadata": {},
   "outputs": [],
   "source": [
    "g1 = [56, 60, 62, 55, 71, 67, 59, 58, 64, 67]\n",
    "g2 = [57, 58, 69, 48, 72, 70, 68, 71, 50, 53]\n",
    "g3 = [57, 67, 49, 48, 47, 55, 66, 51, 54]\n",
    "a = 0.05"
   ]
  },
  {
   "cell_type": "code",
   "execution_count": 12,
   "id": "f06091f8-ff7d-4325-80a4-1fd09259a7c1",
   "metadata": {},
   "outputs": [
    {
     "data": {
      "text/plain": [
       "KruskalResult(statistic=5.465564058257224, pvalue=0.0650380998590494)"
      ]
     },
     "execution_count": 12,
     "metadata": {},
     "output_type": "execute_result"
    }
   ],
   "source": [
    "stats.kruskal(g1, g2, g3)"
   ]
  },
  {
   "cell_type": "markdown",
   "id": "8027d882-f279-47fe-839e-3f46c959f6a2",
   "metadata": {},
   "source": [
    "H0 is accepted and H1 is rejected because 0.065 > 0.05"
   ]
  },
  {
   "cell_type": "markdown",
   "id": "e9b390f7-d539-47b0-8c8f-7bc46b95e8b0",
   "metadata": {},
   "source": [
    "### 5. Заявляется, что партия изготавливается со средним арифметическим 2,5 см. Проверить данную гипотезу, если известно, что размеры изделий подчинены нормальному закону распределения. Объем выборки 10, уровень статистической значимости 5%.\n",
    "\n",
    "2.51, 2.35, 2.74, 2.56, 2.40, 2.36, 2.65, 2.7, 2.67, 2.34"
   ]
  },
  {
   "cell_type": "code",
   "execution_count": 13,
   "id": "851ffa9d-df27-4b54-8460-c19f12e30077",
   "metadata": {},
   "outputs": [],
   "source": [
    "array = [2.51, 2.35, 2.74, 2.56, 2.40, 2.36, 2.65, 2.7, 2.67, 2.34]\n",
    "n = 10\n",
    "mu = 2.5"
   ]
  },
  {
   "cell_type": "code",
   "execution_count": 15,
   "id": "d90ef858-cf52-4093-8e57-6e897e3b7bed",
   "metadata": {},
   "outputs": [],
   "source": [
    "mean = np.mean(array) \n",
    "sigma = np.std(array, ddof = 1) "
   ]
  },
  {
   "cell_type": "code",
   "execution_count": 16,
   "id": "3195f524-1fb2-4ead-9210-f9ac46651dca",
   "metadata": {},
   "outputs": [
    {
     "name": "stdout",
     "output_type": "stream",
     "text": [
      "t-value: 0.5631\n"
     ]
    }
   ],
   "source": [
    "tn = (mean - mu) / (sigma / n**0.5)\n",
    "print(f't-value: {round(tn, 4)}')"
   ]
  },
  {
   "cell_type": "code",
   "execution_count": 17,
   "id": "62db4a0a-1ce7-4b39-bce0-dcab012d9e3d",
   "metadata": {},
   "outputs": [
    {
     "name": "stdout",
     "output_type": "stream",
     "text": [
      "Table t-value;: t2 = -2.2622, t1 = 2.2622\n"
     ]
    }
   ],
   "source": [
    "a = 0.05\n",
    "\n",
    "t1 = stats.t.ppf(1 - a / 2, n - 1)\n",
    "t2 = stats.t.ppf(a / 2, n - 1)\n",
    "print(f'Table t-value;: t2 = {round(t2, 4)}, t1 = {round(t1, 4)}')"
   ]
  },
  {
   "cell_type": "code",
   "execution_count": null,
   "id": "de44f23f-4f6b-4ec1-8736-316a656ae9cd",
   "metadata": {},
   "outputs": [],
   "source": []
  }
 ],
 "metadata": {
  "kernelspec": {
   "display_name": "Python 3 (ipykernel)",
   "language": "python",
   "name": "python3"
  },
  "language_info": {
   "codemirror_mode": {
    "name": "ipython",
    "version": 3
   },
   "file_extension": ".py",
   "mimetype": "text/x-python",
   "name": "python",
   "nbconvert_exporter": "python",
   "pygments_lexer": "ipython3",
   "version": "3.11.7"
  }
 },
 "nbformat": 4,
 "nbformat_minor": 5
}
