{
 "cells": [
  {
   "cell_type": "markdown",
   "id": "5e052da5-57b1-4d10-808b-b530008d139d",
   "metadata": {},
   "source": [
    "### Задача 1:\n",
    "Даны значения зарплат из выборки выпускников: 100, 80, 75, 77, 89, 33, 45, 25, 65, 17, 30, 24, 57, 55, 70, 75, 65, 84, 90, 150. Посчитать (желательно без использования статистических методов наподобие std, var, mean) среднее арифметическое, среднее квадратичное отклонение, смещенную и несмещенную оценки дисперсий для данной выборки."
   ]
  },
  {
   "cell_type": "code",
   "execution_count": 9,
   "id": "572add00-2bc1-4faf-b61f-7acf91dd2950",
   "metadata": {},
   "outputs": [],
   "source": [
    "import numpy as np\n",
    "import matplotlib.pyplot as plot\n",
    "from math import factorial"
   ]
  },
  {
   "cell_type": "code",
   "execution_count": 11,
   "id": "bf4a0f01-2e4a-4189-ae6d-2c5b3997f267",
   "metadata": {},
   "outputs": [],
   "source": [
    "x = np.array([100, 80, 75, 77, 89, 33, 45, 25, 65, 17, 30, 24, 57, 55, 70, 75, 65, 84, 90, 150])"
   ]
  },
  {
   "cell_type": "code",
   "execution_count": 12,
   "id": "5286061a-fd3a-440e-8c90-52f8588fb650",
   "metadata": {},
   "outputs": [],
   "source": [
    "def mean_value(array): \n",
    "    return sum(array) / len(array)"
   ]
  },
  {
   "cell_type": "code",
   "execution_count": 16,
   "id": "7da84d34-b42c-49a3-a87e-1a07e7f9c6b3",
   "metadata": {},
   "outputs": [
    {
     "name": "stdout",
     "output_type": "stream",
     "text": [
      "Mean = 65.3\n"
     ]
    }
   ],
   "source": [
    "print(f'Mean = {round(mean_value(x), 2)}')\n",
    "a = round(mean_value(x), 2)"
   ]
  },
  {
   "cell_type": "code",
   "execution_count": 17,
   "id": "a0b8df6e-c575-4297-88da-41555d2b0f37",
   "metadata": {},
   "outputs": [
    {
     "data": {
      "text/plain": [
       "65.3"
      ]
     },
     "execution_count": 17,
     "metadata": {},
     "output_type": "execute_result"
    }
   ],
   "source": [
    "np.mean(x)"
   ]
  },
  {
   "cell_type": "code",
   "execution_count": 20,
   "id": "a5e396ef-14a8-4264-966c-def1bd0e0971",
   "metadata": {},
   "outputs": [],
   "source": [
    "def mean_sqr_dev(array):\n",
    "    sqr_dev = (array - mean_value(array)) ** 2\n",
    "    return (sum(sqr_dev) / (len(sqr_dev) - 1)) ** (1/2)"
   ]
  },
  {
   "cell_type": "code",
   "execution_count": 21,
   "id": "cdd81b97-2ee5-45ab-86ce-01ace9a983df",
   "metadata": {},
   "outputs": [
    {
     "name": "stdout",
     "output_type": "stream",
     "text": [
      "Mean squared deviation = 31.62\n"
     ]
    }
   ],
   "source": [
    "print(f'Mean squared deviation = {round(mean_sqr_dev(x), 2)}')"
   ]
  },
  {
   "cell_type": "code",
   "execution_count": 23,
   "id": "7fc6bd8a-12d5-4338-a772-336aafbacc65",
   "metadata": {},
   "outputs": [
    {
     "data": {
      "text/plain": [
       "31.624607341019814"
      ]
     },
     "execution_count": 23,
     "metadata": {},
     "output_type": "execute_result"
    }
   ],
   "source": [
    "np.std(x, ddof = 1)"
   ]
  },
  {
   "cell_type": "code",
   "execution_count": 25,
   "id": "f841cc04-6622-417d-a82a-ef8c74520b1f",
   "metadata": {},
   "outputs": [],
   "source": [
    "def dispersion(array, offset):\n",
    "    sqr_dev = (array - mean_value(array)) ** 2\n",
    "    return sum(sqr_dev) / (len(sqr_dev) - 1) if offset else sum(sqr_dev) / len(sqr_dev)"
   ]
  },
  {
   "cell_type": "code",
   "execution_count": 27,
   "id": "68b5aa4e-8cad-4106-bbfc-353eb6eb9e21",
   "metadata": {},
   "outputs": [
    {
     "name": "stdout",
     "output_type": "stream",
     "text": [
      "Biased variance = 950.11\n",
      "Unbiased variance = 1000.12\n"
     ]
    }
   ],
   "source": [
    "print(f'Biased variance = {round(dispersion(x, False),2)}\\n'\n",
    "    f'Unbiased variance = {round(dispersion(x, True),2)}')"
   ]
  },
  {
   "cell_type": "code",
   "execution_count": 28,
   "id": "5745b5c2-270a-4925-a9d0-d90fcef42ab3",
   "metadata": {},
   "outputs": [
    {
     "data": {
      "text/plain": [
       "950.11"
      ]
     },
     "execution_count": 28,
     "metadata": {},
     "output_type": "execute_result"
    }
   ],
   "source": [
    "np.var(x,ddof=0)"
   ]
  },
  {
   "cell_type": "code",
   "execution_count": 29,
   "id": "c7c95c70-4923-4146-a5d0-50e064f0c717",
   "metadata": {},
   "outputs": [
    {
     "data": {
      "text/plain": [
       "1000.1157894736842"
      ]
     },
     "execution_count": 29,
     "metadata": {},
     "output_type": "execute_result"
    }
   ],
   "source": [
    "np.var(x,ddof=1)"
   ]
  },
  {
   "cell_type": "markdown",
   "id": "4769c58a-b230-4195-a48c-cc5e1dbbf3a6",
   "metadata": {},
   "source": [
    "### Solution: \n",
    "1. Mean = 65.3\n",
    "2. Standard deviation = 31.62\n",
    "3. Biased variance = 950.11\n",
    "4. Unbiased variance = 1000.12"
   ]
  },
  {
   "cell_type": "markdown",
   "id": "e7bba984-15b0-4ef3-8228-7cdca86178d4",
   "metadata": {},
   "source": [
    "## Задача 2:\n",
    "### В первом ящике находится 8 мячей, из которых 5 - белые. Во втором ящике - 12 мячей, из которых 5 белых. Из первого ящика вытаскивают случайным образом два мяча, из второго - 4. Какова вероятность того, что 3 мяча белые?"
   ]
  },
  {
   "cell_type": "markdown",
   "id": "866973aa-9a8f-41f7-b707-3df3ab739690",
   "metadata": {},
   "source": [
    "Это событие модет произойти следующими способами:\\\n",
    "Р(А): m1 from the 1st box takes out 0 white balls and P(B) m2 from the 2nd box takes out 3 white balls;\\\n",
    "P(C): m3 from the 1st box takes out 2 white balls and P(F) m4 from the 2nd box takes out 2 white balls;\\\n",
    "P(E): m5 from the 1st box takes out 2 white balls and P(F) m6 from the 2nd box takes out 1 white ball\n",
    "\n",
    "n1: amount taken out of the 1st box is 2 balls from 8: n1 Ckn = C28 \\\n",
    "n2: amount taken out of the 2nd box is 4 balls from 12: n2 Ckn = C412\n",
    "\n",
    "The probability of 3 balls being white is determined by the sum of all occurances:  \n",
    "P = P(A) * P(B) + P(C) * P(D) + P(E) * P(F)"
   ]
  },
  {
   "cell_type": "markdown",
   "id": "ee19bdc2-bf98-4678-8ae4-286c179b00eb",
   "metadata": {},
   "source": [
    "#### Probability fo the first occurance taking place -\n",
    "P(A) * P(B) = (C05*C23  / C28) * (C35*C17 / C412) "
   ]
  },
  {
   "cell_type": "code",
   "execution_count": 31,
   "id": "63965bdb-4cd3-494c-b63f-ffed331ac040",
   "metadata": {},
   "outputs": [],
   "source": [
    "def combinations(n,k):\n",
    "    return factorial(n) / (factorial(k) * factorial(n-k))"
   ]
  },
  {
   "cell_type": "code",
   "execution_count": 35,
   "id": "fbd590d8-37f9-4d14-9c53-e544bd08d968",
   "metadata": {},
   "outputs": [],
   "source": [
    "P1 = (combinations(5,0) * combinations(3,2) / combinations(8,2) * combinations(5,3) * combinations(7,1) / combinations(12,4))"
   ]
  },
  {
   "cell_type": "code",
   "execution_count": 36,
   "id": "bb699648-6590-4f5d-8bf6-db89c7bd198a",
   "metadata": {},
   "outputs": [
    {
     "name": "stdout",
     "output_type": "stream",
     "text": [
      "0 white balls from box 1 & 3 white balls from box 2 = 0.0152\n"
     ]
    }
   ],
   "source": [
    "print(f'0 white balls from box 1 & 3 white balls from box 2 = {round(P1, 4)}')"
   ]
  },
  {
   "cell_type": "code",
   "execution_count": 37,
   "id": "deb41e11-f26b-4b17-8a64-730b1943cf51",
   "metadata": {},
   "outputs": [],
   "source": [
    "P2 = (combinations(5,1) * combinations(3,1) / combinations(8,2) * combinations(5,2) * combinations(7,2) / combinations(12,4))"
   ]
  },
  {
   "cell_type": "code",
   "execution_count": 38,
   "id": "48696243-d6e4-4f48-88c3-6a9b3b3ec363",
   "metadata": {},
   "outputs": [
    {
     "name": "stdout",
     "output_type": "stream",
     "text": [
      "1 white ball from box 1 & 2 white balls from box 2 = 0.2273\n"
     ]
    }
   ],
   "source": [
    "print(f'1 white ball from box 1 & 2 white balls from box 2 = {round(P2, 4)}')"
   ]
  },
  {
   "cell_type": "code",
   "execution_count": 39,
   "id": "f659ede6-eaf9-494b-a449-35e8202532c3",
   "metadata": {},
   "outputs": [],
   "source": [
    "P3 = (combinations(5,2) * combinations(3,0) / combinations(8,2) * combinations(5,1) * combinations(7,3) / combinations(12,4))"
   ]
  },
  {
   "cell_type": "code",
   "execution_count": 40,
   "id": "95689b9e-b20f-43d7-b012-beb9107f6342",
   "metadata": {},
   "outputs": [
    {
     "name": "stdout",
     "output_type": "stream",
     "text": [
      "2 white balls from box 1 & 1 white ball from box 2 = 0.1263\n"
     ]
    }
   ],
   "source": [
    "print(f'2 white balls from box 1 & 1 white ball from box 2 = {round(P3, 4)}')"
   ]
  },
  {
   "cell_type": "code",
   "execution_count": 45,
   "id": "9356d596-7da6-43a3-abf2-0ceed0ffd088",
   "metadata": {},
   "outputs": [
    {
     "name": "stdout",
     "output_type": "stream",
     "text": [
      "The probability of 3 white balls is P = 0.3687 = 36.87\n"
     ]
    }
   ],
   "source": [
    "P = P1 + P2 + P3\n",
    "print(f'The probability of 3 white balls is P = {round(P, 4)} = {round(P * 100, 2)}')"
   ]
  },
  {
   "cell_type": "markdown",
   "id": "dc90fa34-6b08-4da6-b85c-37f9bbd0c0df",
   "metadata": {},
   "source": [
    "### Answer: \n",
    "\n",
    "The probability of all 3 balls being white is 36.87%"
   ]
  },
  {
   "cell_type": "markdown",
   "id": "c1118ec1-0824-4c92-acce-0b955a3878c5",
   "metadata": {},
   "source": [
    "## Задача 3. \n",
    "### На соревновании по биатлону один из трех спортсменов стреляет и попадает в мишень. Вероятность попадания для первого спортсмена равна 0.9, для второго — 0.8, для третьего — 0.6. Найти вероятность того, что выстрел произведен: a). первым спортсменом б). вторым спортсменом в). третьим спортсменом."
   ]
  },
  {
   "cell_type": "markdown",
   "id": "bf62a643-4a5f-4e57-a222-fa18ee3f7118",
   "metadata": {},
   "source": [
    "4. В университет на факультеты A и B поступило равное количество студентов, а на факультет C студентов поступило столько же, сколько на A и B вместе. Вероятность того, что студент факультета A сдаст первую сессию, равна 0.8. Для студента факультета B эта вероятность равна 0.7, а для студента факультета C - 0.9. Студент сдал первую сессию. Какова вероятность, что он учится: a). на факультете A б). на факультете B в). на факультете C?\n",
    "5. Устройство состоит из трех деталей. Для первой детали вероятность выйти из строя в первый месяц равна 0.1, для второй - 0.2, для третьей - 0.25. Какова вероятность того, что в первый месяц выйдут из строя: а). все детали б). только две детали в). хотя бы одна деталь г). от одной до двух деталей?"
   ]
  },
  {
   "cell_type": "code",
   "execution_count": null,
   "id": "f5f14136-bf58-4b24-8a5b-17ef2367a80e",
   "metadata": {},
   "outputs": [],
   "source": []
  }
 ],
 "metadata": {
  "kernelspec": {
   "display_name": "Python 3 (ipykernel)",
   "language": "python",
   "name": "python3"
  },
  "language_info": {
   "codemirror_mode": {
    "name": "ipython",
    "version": 3
   },
   "file_extension": ".py",
   "mimetype": "text/x-python",
   "name": "python",
   "nbconvert_exporter": "python",
   "pygments_lexer": "ipython3",
   "version": "3.11.7"
  }
 },
 "nbformat": 4,
 "nbformat_minor": 5
}
